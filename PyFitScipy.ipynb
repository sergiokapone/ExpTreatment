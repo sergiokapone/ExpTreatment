{
 "cells": [
  {
   "cell_type": "code",
   "execution_count": 24,
   "metadata": {},
   "outputs": [],
   "source": [
    "import numpy as np\n",
    "import pandas as pd\n",
    "import matplotlib.pyplot as plt\n",
    "from scipy.odr import ODR, Model, RealData"
   ]
  },
  {
   "cell_type": "code",
   "execution_count": 25,
   "metadata": {},
   "outputs": [],
   "source": [
    "data = pd.read_csv('ExpData.dat', delimiter='\\s+')"
   ]
  },
  {
   "cell_type": "code",
   "execution_count": 26,
   "metadata": {},
   "outputs": [
    {
     "data": {
      "text/html": [
       "<div>\n",
       "<style scoped>\n",
       "    .dataframe tbody tr th:only-of-type {\n",
       "        vertical-align: middle;\n",
       "    }\n",
       "\n",
       "    .dataframe tbody tr th {\n",
       "        vertical-align: top;\n",
       "    }\n",
       "\n",
       "    .dataframe thead th {\n",
       "        text-align: right;\n",
       "    }\n",
       "</style>\n",
       "<table border=\"1\" class=\"dataframe\">\n",
       "  <thead>\n",
       "    <tr style=\"text-align: right;\">\n",
       "      <th></th>\n",
       "      <th>x</th>\n",
       "      <th>y</th>\n",
       "      <th>xdelta</th>\n",
       "      <th>ydelta</th>\n",
       "    </tr>\n",
       "  </thead>\n",
       "  <tbody>\n",
       "    <tr>\n",
       "      <th>0</th>\n",
       "      <td>1.000</td>\n",
       "      <td>0.00073</td>\n",
       "      <td>0.02</td>\n",
       "      <td>0.00004</td>\n",
       "    </tr>\n",
       "    <tr>\n",
       "      <th>1</th>\n",
       "      <td>1.125</td>\n",
       "      <td>0.00080</td>\n",
       "      <td>0.02</td>\n",
       "      <td>0.00004</td>\n",
       "    </tr>\n",
       "    <tr>\n",
       "      <th>2</th>\n",
       "      <td>1.250</td>\n",
       "      <td>0.00082</td>\n",
       "      <td>0.02</td>\n",
       "      <td>0.00004</td>\n",
       "    </tr>\n",
       "    <tr>\n",
       "      <th>3</th>\n",
       "      <td>1.375</td>\n",
       "      <td>0.00091</td>\n",
       "      <td>0.02</td>\n",
       "      <td>0.00003</td>\n",
       "    </tr>\n",
       "    <tr>\n",
       "      <th>4</th>\n",
       "      <td>1.500</td>\n",
       "      <td>0.00105</td>\n",
       "      <td>0.02</td>\n",
       "      <td>0.00003</td>\n",
       "    </tr>\n",
       "    <tr>\n",
       "      <th>5</th>\n",
       "      <td>1.625</td>\n",
       "      <td>0.00109</td>\n",
       "      <td>0.02</td>\n",
       "      <td>0.00003</td>\n",
       "    </tr>\n",
       "    <tr>\n",
       "      <th>6</th>\n",
       "      <td>1.750</td>\n",
       "      <td>0.00115</td>\n",
       "      <td>0.02</td>\n",
       "      <td>0.00003</td>\n",
       "    </tr>\n",
       "    <tr>\n",
       "      <th>7</th>\n",
       "      <td>1.875</td>\n",
       "      <td>0.00132</td>\n",
       "      <td>0.02</td>\n",
       "      <td>0.00003</td>\n",
       "    </tr>\n",
       "    <tr>\n",
       "      <th>8</th>\n",
       "      <td>2.000</td>\n",
       "      <td>0.00135</td>\n",
       "      <td>0.02</td>\n",
       "      <td>0.00002</td>\n",
       "    </tr>\n",
       "    <tr>\n",
       "      <th>9</th>\n",
       "      <td>2.125</td>\n",
       "      <td>0.00146</td>\n",
       "      <td>0.02</td>\n",
       "      <td>0.00002</td>\n",
       "    </tr>\n",
       "    <tr>\n",
       "      <th>10</th>\n",
       "      <td>2.250</td>\n",
       "      <td>0.00155</td>\n",
       "      <td>0.02</td>\n",
       "      <td>0.00002</td>\n",
       "    </tr>\n",
       "  </tbody>\n",
       "</table>\n",
       "</div>"
      ],
      "text/plain": [
       "        x        y  xdelta   ydelta\n",
       "0   1.000  0.00073    0.02  0.00004\n",
       "1   1.125  0.00080    0.02  0.00004\n",
       "2   1.250  0.00082    0.02  0.00004\n",
       "3   1.375  0.00091    0.02  0.00003\n",
       "4   1.500  0.00105    0.02  0.00003\n",
       "5   1.625  0.00109    0.02  0.00003\n",
       "6   1.750  0.00115    0.02  0.00003\n",
       "7   1.875  0.00132    0.02  0.00003\n",
       "8   2.000  0.00135    0.02  0.00002\n",
       "9   2.125  0.00146    0.02  0.00002\n",
       "10  2.250  0.00155    0.02  0.00002"
      ]
     },
     "execution_count": 26,
     "metadata": {},
     "output_type": "execute_result"
    }
   ],
   "source": [
    "data"
   ]
  },
  {
   "cell_type": "code",
   "execution_count": 27,
   "metadata": {},
   "outputs": [],
   "source": [
    "\"\"\"\n",
    "Завантаження даних в змінні\n",
    "\"\"\"\n",
    "x = data.x\n",
    "y = data.y\n",
    "dx = data.xdelta\n",
    "dy = data.ydelta\n",
    "\n"
   ]
  },
  {
   "cell_type": "code",
   "execution_count": 28,
   "metadata": {},
   "outputs": [],
   "source": [
    "# Задаємо модельну функцію\n",
    "def model_func(beta, x):\n",
    "    \"\"\"\n",
    "    Визначення математичної моделі для підгони.\n",
    "\n",
    "    Параметр підгонки beta[0] та beta[1]\n",
    "    \"\"\"\n",
    "    y = beta[0] * x + beta[1]\n",
    "    return y"
   ]
  },
  {
   "cell_type": "code",
   "execution_count": 29,
   "metadata": {},
   "outputs": [],
   "source": [
    "\n",
    "# Здійснюємо підгону даних за моделлю\n",
    "# https://docs.scipy.org/doc/scipy/reference/odr.html\n",
    "\n",
    "# Створюємо екземпляр моделі\n",
    "model = Model(model_func)\n",
    "\n",
    "# Створюємо екземпляр даних data\n",
    "data = RealData(x, y, dx, dy)\n",
    "\n",
    "# Створюємо ODR зі своїми даними, моделлю та початковою оцінкою параметрів\n",
    "odr = ODR(data, model, [6e-4, 0])\n",
    "\n",
    "# Вибір методу підгонки\n",
    "odr.set_job(fit_type=0)\n",
    "\n",
    "# Отримуємо результати підгонки\n",
    "output = odr.run()"
   ]
  },
  {
   "cell_type": "code",
   "execution_count": 33,
   "metadata": {},
   "outputs": [],
   "source": [
    "slope, intercept = output.beta"
   ]
  },
  {
   "cell_type": "code",
   "execution_count": 38,
   "metadata": {},
   "outputs": [
    {
     "data": {
      "image/png": "[encoded data removed]",
      "text/plain": [
       "<Figure size 640x480 with 1 Axes>"
      ]
     },
     "metadata": {},
     "output_type": "display_data"
    }
   ],
   "source": [
    "from matplotlib.ticker import ScalarFormatter\n",
    "plt.errorbar(data.x, data.y, xerr=dx, yerr=dy, fmt='o', color='blue', capsize=2)\n",
    "plt.plot(data.x, intercept + slope * data.x, label=rf'$B = {slope:.2e} \\cdot I$')\n",
    "plt.grid(which='both', color='orange', linestyle='--', linewidth=0.5) \n",
    "format_as_power = lambda x: f\"$10^{{{int(np.log10(abs(x)))}}$\"\n",
    "\n",
    "plt.ticklabel_format(axis='y', style='sci', scilimits=(0,0))\n",
    "\n",
    "\n",
    "plt.legend()\n",
    "plt.show()"
   ]
  },
  {
   "cell_type": "code",
   "execution_count": null,
   "metadata": {},
   "outputs": [
    {
     "name": "stdout",
     "output_type": "stream",
     "text": [
      "a = 6.84e-04\n",
      "Da = 2.36e-05\n",
      "b = -8.63e-07\n",
      "Db = 4.29e-05\n",
      "chi2 = 9.27e-01\n"
     ]
    }
   ],
   "source": [
    "results = [\n",
    "        (\"a\", output.beta[0]),\n",
    "        (\"Da\", output.sd_beta[0]),\n",
    "        (\"b\", output.beta[1]),\n",
    "        (\"Db\", output.sd_beta[1]),\n",
    "        (\"chi2\", output.res_var),\n",
    "    ]\n",
    "\n",
    "for name, parameter in results:\n",
    "    print(f'{name} = {parameter:.2e}')"
   ]
  }
 ],
 "metadata": {
  "kernelspec": {
   "display_name": "Python 3",
   "language": "python",
   "name": "python3"
  },
  "language_info": {
   "codemirror_mode": {
    "name": "ipython",
    "version": 3
   },
   "file_extension": ".py",
   "mimetype": "text/x-python",
   "name": "python",
   "nbconvert_exporter": "python",
   "pygments_lexer": "ipython3",
   "version": "3.11.3"
  },
  "orig_nbformat": 4
 },
 "nbformat": 4,
 "nbformat_minor": 2
}
