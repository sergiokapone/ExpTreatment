{
  "cells": [
    {
      "cell_type": "code",
      "execution_count": 3,
      "metadata": {
        "id": "cBKgVN-3k_HN"
      },
      "outputs": [],
      "source": [
        "# @title Завантаження пакетів { vertical-output: true }\n",
        "from scipy.optimize import curve_fit\n",
        "import pandas as pd\n",
        "import numpy as np\n",
        "from ipywidgets import interact\n",
        "from matplotlib import pyplot as plt\n",
        "%matplotlib inline\n",
        "plt.rcParams['figure.figsize'] = [10, 6]\n",
        "plt.rcParams['figure.dpi'] = 100\n"
      ]
    },
    {
      "cell_type": "markdown",
      "metadata": {
        "id": "XachHPpD3CNq"
      },
      "source": [
        "# Апроксимація результатів вимірювання"
      ]
    },
    {
      "cell_type": "markdown",
      "metadata": {
        "id": "hjNdGNaN-6es"
      },
      "source": [
        "Часто, результатом фізичного експерименту є виміряні значення пар величин $(x_i, y_i)$. Прийнято величини $y_i$ вважати залежними від величин $x_i$."
      ]
    },
    {
      "cell_type": "code",
      "execution_count": 4,
      "metadata": {
        "colab": {
          "base_uri": "https://localhost:8080/",
          "height": 300
        },
        "id": "3RariNeWyc4f",
        "outputId": "97f4336c-782b-43d0-950e-5362f0ee947f"
      },
      "outputs": [
        {
          "data": {
            "text/html": [
              "<div>\n",
              "<style scoped>\n",
              "    .dataframe tbody tr th:only-of-type {\n",
              "        vertical-align: middle;\n",
              "    }\n",
              "\n",
              "    .dataframe tbody tr th {\n",
              "        vertical-align: top;\n",
              "    }\n",
              "\n",
              "    .dataframe thead th {\n",
              "        text-align: right;\n",
              "    }\n",
              "</style>\n",
              "<table border=\"1\" class=\"dataframe\">\n",
              "  <thead>\n",
              "    <tr style=\"text-align: right;\">\n",
              "      <th></th>\n",
              "      <th>x</th>\n",
              "      <th>y</th>\n",
              "    </tr>\n",
              "  </thead>\n",
              "  <tbody>\n",
              "    <tr>\n",
              "      <th>0</th>\n",
              "      <td>4</td>\n",
              "      <td>8</td>\n",
              "    </tr>\n",
              "    <tr>\n",
              "      <th>1</th>\n",
              "      <td>7</td>\n",
              "      <td>6</td>\n",
              "    </tr>\n",
              "    <tr>\n",
              "      <th>2</th>\n",
              "      <td>9</td>\n",
              "      <td>8</td>\n",
              "    </tr>\n",
              "    <tr>\n",
              "      <th>3</th>\n",
              "      <td>10</td>\n",
              "      <td>13</td>\n",
              "    </tr>\n",
              "    <tr>\n",
              "      <th>4</th>\n",
              "      <td>14</td>\n",
              "      <td>12</td>\n",
              "    </tr>\n",
              "    <tr>\n",
              "      <th>5</th>\n",
              "      <td>17</td>\n",
              "      <td>17</td>\n",
              "    </tr>\n",
              "    <tr>\n",
              "      <th>6</th>\n",
              "      <td>20</td>\n",
              "      <td>20</td>\n",
              "    </tr>\n",
              "    <tr>\n",
              "      <th>7</th>\n",
              "      <td>25</td>\n",
              "      <td>20</td>\n",
              "    </tr>\n",
              "  </tbody>\n",
              "</table>\n",
              "</div>"
            ],
            "text/plain": [
              "    x   y\n",
              "0   4   8\n",
              "1   7   6\n",
              "2   9   8\n",
              "3  10  13\n",
              "4  14  12\n",
              "5  17  17\n",
              "6  20  20\n",
              "7  25  20"
            ]
          },
          "execution_count": 4,
          "metadata": {},
          "output_type": "execute_result"
        }
      ],
      "source": [
        "# @title Експериментальні дані { vertical-output: true }\n",
        "from io import StringIO\n",
        "\n",
        "table = \"\"\"\n",
        "x  y\n",
        "4  8\n",
        "7  6\n",
        "9  8\n",
        "10 13\n",
        "14 12\n",
        "17 17\n",
        "20 20\n",
        "25 20\n",
        "\"\"\"\n",
        "\n",
        "data = pd.read_csv(StringIO(table), delimiter='\\s+')\n",
        "df = pd.DataFrame(data, columns=['x', 'y'])\n",
        "df\n"
      ]
    },
    {
      "cell_type": "markdown",
      "metadata": {
        "id": "fTfAbdwaax04"
      },
      "source": [
        "## Метод найменших квадратів"
      ]
    },
    {
      "cell_type": "markdown",
      "metadata": {
        "id": "xaDb-TEV2mjD"
      },
      "source": [
        "Зазвичай, на практиці з якихось апріорних чи теоретичних міркувань відомо, який аналітичний вигляд має функція $y = f (x| p_1, p_2, \\ldots, p_p)$, що описує експериментальні дані, а невідомими є $p$ штук числових величин $p_i$ $(i = 1 \\ldots p)$. Така аналітична функція називається *моделлю*, а величини $p_i$ називаються *параметрами* моделі.\n",
        "\n",
        "Виникає задача, як підібрати значення параметрів так, щоб графік функції проходив якомога ближче до експериментальних точок? Така процедура називається апроксимацією.\n",
        "\n",
        "---\n",
        "\n",
        "(В англомовній літературі ця процедура називається \"fitting\", що дослівно перекладається як \"підгонка\" параметрів моделі).\n",
        "\n",
        "---\n",
        "\n",
        "\n",
        "Нехай у нас є експериментальні дані $(x_i, y_i)$, ми намагаємось застосувати модель  $y = f(x)$.\n",
        "\n",
        "Позначимо відстань від $i$-ї експериментальної точки до шуканої прямої, що виміряна по вертикалі як $\\Delta y_i$ (цей доданок називається *лишком*):\n",
        "\\begin{equation}\n",
        "\t\\Delta y_i = y_i - f(x_i| p_1, p_2, \\ldots, p_p)\n",
        "\\end{equation}\n",
        "і знайдемо суму\n",
        "\\begin{equation}\n",
        "\t\\chi^2(p_1, p_2, \\ldots, p_p) = \\sum\\limits_{i = 1}^n  \\left(\\frac{y_i - f(x_i| p_1, p_2, \\ldots, p_p)}{\\sigma_{y_i}}\\right)^2\n",
        "\\end{equation}\n",
        "яка залежить від параметрів $p_1, p_2, \\ldots, p_p$. Параметри підбираються так, щоб $\\chi^2(p_1, p_2, \\ldots, p_p) \\to \\min$. Така сума називається зваженою сумою квадратичних лишків.\n",
        "\n",
        "Даний метод побудови найкращої прямої називається методом найменших квадратів.\n",
        "\n",
        "У випадку, якщо більша частина відхилень даних від моделі буде порядку середньоквадратичної похибки, тобто $\\Delta y_i \\approx \\sigma_{y_i}$, то сума $\\chi^2$ буде за порядком величини дорівнювати числу доданків, що входять в неї, тобто $\\chi^2 \\approx n$."
      ]
    },
    {
      "cell_type": "code",
      "execution_count": 5,
      "metadata": {
        "colab": {
          "base_uri": "https://localhost:8080/",
          "height": 535
        },
        "id": "n6dT_0t8yeOB",
        "outputId": "5ea853b8-8995-4c82-838b-55b91cc453a3"
      },
      "outputs": [
        {
          "name": "stdout",
          "output_type": "stream",
          "text": [
            "\n"
          ]
        },
        {
          "data": {
            "image/png": "[encoded data removed]",
            "text/plain": [
              "<Figure size 1000x600 with 1 Axes>"
            ]
          },
          "metadata": {},
          "output_type": "display_data"
        }
      ],
      "source": [
        "# @title Ілюстрація методу\n",
        "plt.gca().set_aspect('equal')\n",
        "plt.xticks([]), plt.yticks([])\n",
        "plt.xlabel('x'), plt.ylabel('y')\n",
        "\n",
        "\n",
        "def line(x, a=0.75, c=3):\n",
        "    return a*x + c\n",
        "\n",
        "\n",
        "plt.scatter(df['x'], df['y'], color='b')\n",
        "# plt.errorbar(d['x'], d['y'], d['sy'],\n",
        "#                 fmt='o', ecolor = 'r', color = 'k',\n",
        "#                 markersize=5, capsize=4, label=\"дані\")\n",
        "x = np.linspace(1, 26)\n",
        "plt.plot(x, line(x), color='r')\n",
        "plt.plot([df['x'], df['x']], [df['y'], line(df['x'])], color='gray')\n",
        "print()\n"
      ]
    },
    {
      "cell_type": "markdown",
      "metadata": {
        "id": "d083ZJ8bzZOn"
      },
      "source": [
        "## Реальний приклад: рух каменя"
      ]
    },
    {
      "cell_type": "markdown",
      "metadata": {
        "id": "DN-20fys2HZe"
      },
      "source": [
        "Камінь кинули вгору. Зняли вимірювання залежності висоти каменя над поверхнею землі від часу [$t$ (с), $y$ (м), $\\Delta y$ (м)]"
      ]
    },
    {
      "cell_type": "code",
      "execution_count": 6,
      "metadata": {
        "colab": {
          "base_uri": "https://localhost:8080/",
          "height": 708
        },
        "id": "mc04xlc8sAzX",
        "outputId": "abfddd52-455f-4b2f-efc2-71d356ceafd2"
      },
      "outputs": [
        {
          "data": {
            "text/html": [
              "<div>\n",
              "<style scoped>\n",
              "    .dataframe tbody tr th:only-of-type {\n",
              "        vertical-align: middle;\n",
              "    }\n",
              "\n",
              "    .dataframe tbody tr th {\n",
              "        vertical-align: top;\n",
              "    }\n",
              "\n",
              "    .dataframe thead th {\n",
              "        text-align: right;\n",
              "    }\n",
              "</style>\n",
              "<table border=\"1\" class=\"dataframe\">\n",
              "  <thead>\n",
              "    <tr style=\"text-align: right;\">\n",
              "      <th></th>\n",
              "      <th>time</th>\n",
              "      <th>pos</th>\n",
              "      <th>spos</th>\n",
              "    </tr>\n",
              "  </thead>\n",
              "  <tbody>\n",
              "    <tr>\n",
              "      <th>0</th>\n",
              "      <td>0.0</td>\n",
              "      <td>0.16</td>\n",
              "      <td>0.42</td>\n",
              "    </tr>\n",
              "    <tr>\n",
              "      <th>1</th>\n",
              "      <td>0.1</td>\n",
              "      <td>3.12</td>\n",
              "      <td>0.53</td>\n",
              "    </tr>\n",
              "    <tr>\n",
              "      <th>2</th>\n",
              "      <td>0.2</td>\n",
              "      <td>2.82</td>\n",
              "      <td>0.55</td>\n",
              "    </tr>\n",
              "    <tr>\n",
              "      <th>3</th>\n",
              "      <td>0.3</td>\n",
              "      <td>3.70</td>\n",
              "      <td>0.48</td>\n",
              "    </tr>\n",
              "    <tr>\n",
              "      <th>4</th>\n",
              "      <td>0.4</td>\n",
              "      <td>4.39</td>\n",
              "      <td>0.45</td>\n",
              "    </tr>\n",
              "    <tr>\n",
              "      <th>5</th>\n",
              "      <td>0.5</td>\n",
              "      <td>5.90</td>\n",
              "      <td>0.51</td>\n",
              "    </tr>\n",
              "    <tr>\n",
              "      <th>6</th>\n",
              "      <td>0.6</td>\n",
              "      <td>5.45</td>\n",
              "      <td>0.48</td>\n",
              "    </tr>\n",
              "    <tr>\n",
              "      <th>7</th>\n",
              "      <td>0.7</td>\n",
              "      <td>7.27</td>\n",
              "      <td>0.48</td>\n",
              "    </tr>\n",
              "    <tr>\n",
              "      <th>8</th>\n",
              "      <td>0.8</td>\n",
              "      <td>6.39</td>\n",
              "      <td>0.44</td>\n",
              "    </tr>\n",
              "    <tr>\n",
              "      <th>9</th>\n",
              "      <td>0.9</td>\n",
              "      <td>6.91</td>\n",
              "      <td>0.50</td>\n",
              "    </tr>\n",
              "    <tr>\n",
              "      <th>10</th>\n",
              "      <td>1.0</td>\n",
              "      <td>7.03</td>\n",
              "      <td>0.52</td>\n",
              "    </tr>\n",
              "    <tr>\n",
              "      <th>11</th>\n",
              "      <td>1.1</td>\n",
              "      <td>8.13</td>\n",
              "      <td>0.49</td>\n",
              "    </tr>\n",
              "    <tr>\n",
              "      <th>12</th>\n",
              "      <td>1.2</td>\n",
              "      <td>8.00</td>\n",
              "      <td>0.51</td>\n",
              "    </tr>\n",
              "    <tr>\n",
              "      <th>13</th>\n",
              "      <td>1.3</td>\n",
              "      <td>7.56</td>\n",
              "      <td>0.52</td>\n",
              "    </tr>\n",
              "    <tr>\n",
              "      <th>14</th>\n",
              "      <td>1.4</td>\n",
              "      <td>8.45</td>\n",
              "      <td>0.57</td>\n",
              "    </tr>\n",
              "    <tr>\n",
              "      <th>15</th>\n",
              "      <td>1.5</td>\n",
              "      <td>7.95</td>\n",
              "      <td>0.50</td>\n",
              "    </tr>\n",
              "    <tr>\n",
              "      <th>16</th>\n",
              "      <td>1.6</td>\n",
              "      <td>7.97</td>\n",
              "      <td>0.43</td>\n",
              "    </tr>\n",
              "    <tr>\n",
              "      <th>17</th>\n",
              "      <td>1.7</td>\n",
              "      <td>6.89</td>\n",
              "      <td>0.50</td>\n",
              "    </tr>\n",
              "    <tr>\n",
              "      <th>18</th>\n",
              "      <td>1.8</td>\n",
              "      <td>7.19</td>\n",
              "      <td>0.54</td>\n",
              "    </tr>\n",
              "    <tr>\n",
              "      <th>19</th>\n",
              "      <td>1.9</td>\n",
              "      <td>6.49</td>\n",
              "      <td>0.46</td>\n",
              "    </tr>\n",
              "    <tr>\n",
              "      <th>20</th>\n",
              "      <td>2.0</td>\n",
              "      <td>4.98</td>\n",
              "      <td>0.53</td>\n",
              "    </tr>\n",
              "  </tbody>\n",
              "</table>\n",
              "</div>"
            ],
            "text/plain": [
              "    time   pos  spos\n",
              "0    0.0  0.16  0.42\n",
              "1    0.1  3.12  0.53\n",
              "2    0.2  2.82  0.55\n",
              "3    0.3  3.70  0.48\n",
              "4    0.4  4.39  0.45\n",
              "5    0.5  5.90  0.51\n",
              "6    0.6  5.45  0.48\n",
              "7    0.7  7.27  0.48\n",
              "8    0.8  6.39  0.44\n",
              "9    0.9  6.91  0.50\n",
              "10   1.0  7.03  0.52\n",
              "11   1.1  8.13  0.49\n",
              "12   1.2  8.00  0.51\n",
              "13   1.3  7.56  0.52\n",
              "14   1.4  8.45  0.57\n",
              "15   1.5  7.95  0.50\n",
              "16   1.6  7.97  0.43\n",
              "17   1.7  6.89  0.50\n",
              "18   1.8  7.19  0.54\n",
              "19   1.9  6.49  0.46\n",
              "20   2.0  4.98  0.53"
            ]
          },
          "execution_count": 6,
          "metadata": {},
          "output_type": "execute_result"
        }
      ],
      "source": [
        "# @title Експериментальні дані { vertical-output: true }\n",
        "table = \"\"\"\n",
        "time pos spos\n",
        "0.0 0.16 0.42\n",
        "0.1 3.12 0.53\n",
        "0.2 2.82 0.55\n",
        "0.3 3.70 0.48\n",
        "0.4 4.39 0.45\n",
        "0.5 5.90 0.51\n",
        "0.6 5.45 0.48\n",
        "0.7 7.27 0.48\n",
        "0.8 6.39 0.44\n",
        "0.9 6.91 0.50\n",
        "1.0 7.03 0.52\n",
        "1.1 8.13 0.49\n",
        "1.2 8.00 0.51\n",
        "1.3 7.56 0.52\n",
        "1.4 8.45 0.57\n",
        "1.5 7.95 0.50\n",
        "1.6 7.97 0.43\n",
        "1.7 6.89 0.50\n",
        "1.8 7.19 0.54\n",
        "1.9 6.49 0.46\n",
        "2.0 4.98 0.53\n",
        "\"\"\"\n",
        "\n",
        "d = pd.read_csv(StringIO(table), delimiter='\\s+')\n",
        "d\n"
      ]
    },
    {
      "cell_type": "markdown",
      "metadata": {
        "id": "1bW29J_I2acD"
      },
      "source": [
        "Будуємо експериментальні точки з вказанням похибок $\\Delta y$ у виміряних значеннях висоти підняття каменя $y$."
      ]
    },
    {
      "cell_type": "code",
      "execution_count": 7,
      "metadata": {
        "colab": {
          "base_uri": "https://localhost:8080/",
          "height": 542
        },
        "id": "XGVc8zY-tenm",
        "outputId": "a9f79cd8-38e0-4b91-d83e-b3afc4fd70aa"
      },
      "outputs": [
        {
          "data": {
            "image/png": "[encoded data removed]",
            "text/plain": [
              "<Figure size 1000x600 with 1 Axes>"
            ]
          },
          "metadata": {},
          "output_type": "display_data"
        }
      ],
      "source": [
        "# @title Графік залежності висоти $y(t)$\n",
        "plt.errorbar(d['time'], d['pos'], d['spos'],\n",
        "             fmt='o', ecolor='r', color='k',\n",
        "             markersize=5, capsize=4)\n",
        "plt.grid(True)\n",
        "plt.ylabel(\"Висота (м)\")\n",
        "plt.xlabel(\"час (с)\")\n",
        "plt.savefig(\"dataonly.pdf\")\n"
      ]
    },
    {
      "cell_type": "markdown",
      "metadata": {
        "id": "m1rMFD4HypFq"
      },
      "source": [
        "Спробуйте самостійно підібрати параметри $y_0$, $v_0$ та $a$ моделі $y = y_0 + v_0 t + \\frac{at^2}{2}$ рухаючи повзунки.  Спостерігайте за значенням $\\chi^2$. Модель буде найкраще описувати дані, якщо $\\chi^2$ буде наближено дорівнювати числу експериметальних точок ($n = 21$ в нашому випадку, тобто $\\chi^2 \\approx 21$)."
      ]
    },
    {
      "cell_type": "code",
      "execution_count": 19,
      "metadata": {
        "colab": {
          "base_uri": "https://localhost:8080/",
          "height": 1000,
          "referenced_widgets": [
            "f0d8eb9d0a4e4b94ac3b6fa1d4846884",
            "8b2feeb6918c4d2d8445bea72b9020c1",
            "da488a2f093e4a37ac8417023c13f1e9",
            "cd194957577b463ca179a2792b61f7ed",
            "689c7e6dac8b473fbf2c6fd66ccd38b2",
            "dd87dc4721f34a22a635fb7af4d1be4b",
            "4fee593ee50f410cba1e1e3a2f70c47e",
            "8787b3686e0349cf838a1685e6ff08ed",
            "9c459c3180f44b049431c393c3d4c693",
            "c1570d32f93747d3bcea02580c00e013",
            "0e855e736c21458e9964bbe90ef0810e",
            "3e169525d6254e1ca19245c1d438fe62",
            "4aeb0e7c56444d34a1e88896c789d3d7"
          ]
        },
        "id": "VOqp09hxumEn",
        "outputId": "494e7ac0-c21b-4187-f018-2a10e6810b16"
      },
      "outputs": [
        {
          "data": {
            "application/vnd.jupyter.widget-view+json": {
              "model_id": "285f9eeaca094986a9500a1e6b75e6c2",
              "version_major": 2,
              "version_minor": 0
            },
            "text/plain": [
              "interactive(children=(FloatSlider(value=1.5, description='y0', max=5.0, min=-2.0), FloatSlider(value=10.0, des…"
            ]
          },
          "metadata": {},
          "output_type": "display_data"
        },
        {
          "data": {
            "text/plain": [
              "<function __main__.HandChoise(y0, v0, a)>"
            ]
          },
          "execution_count": 19,
          "metadata": {},
          "output_type": "execute_result"
        }
      ],
      "source": [
        "# @title Ручний підбір параметрів\n",
        "\n",
        "def HandChoise(y0, v0, a):\n",
        "\n",
        "    def model(t, y0, v0, a):\n",
        "        return y0 + v0*t + 0.5*a*t**2\n",
        "\n",
        "    plt.errorbar(d['time'], d['pos'], d['spos'],\n",
        "                 fmt='o', ecolor='r', color='k',\n",
        "                 markersize=5, capsize=4, label=\"дані\")\n",
        "    plt.ylabel(\"Висота (м)\")\n",
        "    plt.xlabel(\"час (с)\")\n",
        "    plt.grid(True)\n",
        "\n",
        "    t = np.linspace(0, 2)\n",
        "    plt.plot(t, model(t, y0, v0, a), color='b', label=\"модель\")\n",
        "    plt.legend(bbox_to_anchor=(0.01, 0.99), loc='upper left', borderaxespad=0.)\n",
        "\n",
        "    chisq = sum((d['pos'] - model(d['time'], y0, v0, a))**2/d['spos']**2)\n",
        "\n",
        "    plt.title(\"$\\\\chi^2 = %.2f$\" % chisq)\n",
        "\n",
        "\n",
        "interact(HandChoise, y0=(-2.0, 5.0), v0=(0.0, 20.0), a=(-15.0, -3.0))\n"
      ]
    },
    {
      "cell_type": "markdown",
      "metadata": {
        "id": "JM7CuZ-W23SL"
      },
      "source": [
        "Метод найменших квадратів в якому враховуються лише похибки залежних змінних $y_i$ реалізується за допомогою алгоритму [Левенберга-Марквардта](https://en.wikipedia.org/wiki/Levenberg–Marquardt_algorithm).\n",
        "\n",
        "Довіримо тепер знаходження парамерів моделі саме цьому алгоритму."
      ]
    },
    {
      "cell_type": "code",
      "execution_count": 9,
      "metadata": {
        "id": "SQRuENa6u2LF"
      },
      "outputs": [],
      "source": [
        "# @title Алгоритм підбору параметрів\n",
        "# Модельна функція\n",
        "\n",
        "def model(t, y0, v0, a):\n",
        "    y = y0 + v0 * t + a * t ** 2 / 2\n",
        "    return y\n",
        "\n",
        "\n",
        "# Наближені значення фітингових параметрів\n",
        "init_guess = [1, 1, -10]\n",
        "\n",
        "# Апроксимація даних\n",
        "fit = curve_fit(model, d['time'], d['pos'], sigma=d['spos'],\n",
        "                p0=init_guess, absolute_sigma=True)\n",
        "\n",
        "# Запис параметрів у змінні\n",
        "ans, cov = fit\n",
        "y0, v0, a = ans\n",
        "sy0, sv0, sa = np.sqrt(np.diag(cov))\n"
      ]
    },
    {
      "cell_type": "code",
      "execution_count": 10,
      "metadata": {
        "colab": {
          "base_uri": "https://localhost:8080/",
          "height": 659
        },
        "collapsed": true,
        "id": "yEn2CX7WzTsd",
        "outputId": "00fedd7b-d87a-4258-aa0b-2199e253ea4b"
      },
      "outputs": [
        {
          "name": "stdout",
          "output_type": "stream",
          "text": [
            "chisq = 22.88\n",
            "y_0 = (0.75 +/- 0.28) м\n",
            "v_0 = (11.29 +/- 0.67) м/с\n",
            "a = (-8.81 +/- 0.65) м/с^2\n"
          ]
        },
        {
          "data": {
            "image/png": "[encoded data removed]",
            "text/plain": [
              "<Figure size 1000x600 with 1 Axes>"
            ]
          },
          "metadata": {},
          "output_type": "display_data"
        }
      ],
      "source": [
        "# @title Побудова модельного графіку\n",
        "# Побудова даних\n",
        "plt.grid(True)\n",
        "plt.errorbar(d['time'], d['pos'], d['spos'],\n",
        "             label=\"дані\", fmt='o', ecolor='r', color='k',\n",
        "             markersize=5, capsize=4)\n",
        "plt.ylabel(\"Висота (м)\")\n",
        "plt.xlabel(\"час (с)\")\n",
        "\n",
        "# Розрахунок хі-квадрату\n",
        "chisq = sum((d['pos'] - model(d['time'], y0, v0, a))**2/d['spos']**2)\n",
        "\n",
        "# Побудова графіка за результатами апроксимації\n",
        "t = np.linspace(0, 2)\n",
        "plt.plot(t, model(t, y0, v0, a),\n",
        "         color='b', label=\"модель $y = y_0 + v_0 t + \\\\frac{at^2}{2}$\")\n",
        "plt.legend(bbox_to_anchor=(0.01, 0.99), loc='upper left', borderaxespad=0.)\n",
        "\n",
        "# Виведення результатів на координатну площину\n",
        "plt.title('$\\\\chi^2 = %.2f$\\n Параметри моделі $y_0 = (%.2f \\\\pm %.2f)$ м, '\n",
        "          '$v_0 = (%.1f \\\\pm %.1f)$ м/с, '\n",
        "          '$a = (%.1f \\\\pm %.1f)$ м/с$^2$'\n",
        "          % (chisq, y0, sy0, v0, sv0, a, sa),\n",
        "          fontsize=10,\n",
        "          )\n",
        "\n",
        "print(\"chisq = %.2f\" % chisq)\n",
        "print(\"y_0 = (%.2f +/- %.2f) м\" % (y0, sy0))\n",
        "print(\"v_0 = (%.2f +/- %.2f) м/с\" % (v0, sv0))\n",
        "print(\"a = (%.2f +/- %.2f) м/с^2\" % (a, sa))\n"
      ]
    },
    {
      "cell_type": "markdown",
      "metadata": {
        "id": "4nUq0xoDaiWW"
      },
      "source": [
        "## Метод найменших повних квадратів"
      ]
    },
    {
      "cell_type": "markdown",
      "metadata": {
        "id": "dr8x2XE5a3qc"
      },
      "source": [
        "У розглянутому вище методі враховуються лише похибки у залежних величинах $y_i$, а тому виникає обмеження в його використанні лише для випадку коли похибками незалежних змінних можна знехтувати ($\\sigma_{x_i} \\approx 0$).  Однак, на практиці виникає потреба у такому методі, в якому цими похибками нехтувати не можна. Тому треба будувати суму $\\chi^2$ з урахуванням похибок $\\sigma_{x_i}$. Ідея такої побудови полягає в тому, щоб в якості\n",
        "доданків брати не відстань від точки до прямої по вертикалі $d_{\\parallel_i} = |y_i - f(x_i)|$, а ортогональну відстань від точки до прямої $d^2_{\\perp_i} = (x_i - \\tilde{x}_i)^2  + (y_i - \\tilde{y}_i)^2$, причому, кожен із доданків в сумі треба взяти з відповідним ваговим коефіцієнтом, що обернений до похибки. Тоді сума для мінімізації прийме вигляд:\n",
        "\\begin{equation}\n",
        "\t\\tilde{\\chi}^2 = \\sum\\limits_{i = 1}^n  \\left[\\left(\\frac{x_i - \\tilde{x}_i}{\\sigma_{x_i}}\\right)^2 + \\left(\\frac{y_i - f(\\tilde{x}_i)}{\\sigma_{y_i}}\\right)^2\\right],\n",
        "\\end{equation}\n",
        "де точка $(\\tilde{x}_i,\\tilde{y}_i)$ розташована на шуканій прямій на найкоротшій (ортогональній) відстані від експериментальної точки $(x_i, y_i)$.\n",
        "\n"
      ]
    },
    {
      "cell_type": "code",
      "execution_count": 11,
      "metadata": {
        "cellView": "form",
        "colab": {
          "base_uri": "https://localhost:8080/",
          "height": 535
        },
        "id": "UBJxaqb-zv5P",
        "outputId": "d8a7fa1b-8e6f-4411-aab9-1db592aecf5e"
      },
      "outputs": [
        {
          "name": "stdout",
          "output_type": "stream",
          "text": [
            "\n"
          ]
        },
        {
          "data": {
            "image/png": "[encoded data removed]",
            "text/plain": [
              "<Figure size 1000x600 with 1 Axes>"
            ]
          },
          "metadata": {},
          "output_type": "display_data"
        }
      ],
      "source": [
        "# @title Ілюстрація методу\n",
        "plt.gca().set_aspect('equal')\n",
        "plt.xticks([]), plt.yticks([])\n",
        "plt.xlabel('x'), plt.ylabel('y')\n",
        "\n",
        "\n",
        "def line(x, a=0.75, c=3):\n",
        "    return a*x + c\n",
        "\n",
        "\n",
        "def xp(x, y, a=0.75, b=-1, c=3):\n",
        "    return (b*(b*x - a*y) - a*c)/(a ** 2 + b ** 2)\n",
        "\n",
        "\n",
        "def yp(x, y):\n",
        "    return line(xp(x, y))\n",
        "\n",
        "\n",
        "plt.scatter(df['x'], df['y'], color='b')\n",
        "x = np.linspace(1, 26)\n",
        "plt.plot(x, line(x), color='r')\n",
        "xd = xp(df['x'], df['y'])\n",
        "yd = yp(df['x'], df['y'])\n",
        "plt.plot([df['x'], xd], [df['y'], line(xd)], color='gray')\n",
        "print()\n"
      ]
    },
    {
      "cell_type": "markdown",
      "metadata": {
        "id": "d6r8tthxznhg"
      },
      "source": [
        "## Реальний приклад: рух каменя"
      ]
    },
    {
      "cell_type": "markdown",
      "metadata": {
        "id": "mTl2_O8FfmwE"
      },
      "source": [
        "Розглянемо тепер ті ж самі експериментальні дані, але врахуємо похибку годинника. Тепер наші дані виглядатимуть як [$t$ (с), $y$ (м), $\\Delta t$ (с),$\\Delta y$ (м)]"
      ]
    },
    {
      "cell_type": "code",
      "execution_count": 12,
      "metadata": {
        "cellView": "form",
        "colab": {
          "base_uri": "https://localhost:8080/",
          "height": 708
        },
        "id": "TTvxSTDXfiO_",
        "outputId": "1e5bd784-d9bc-446f-8af2-8abd68032153"
      },
      "outputs": [
        {
          "data": {
            "text/html": [
              "<div>\n",
              "<style scoped>\n",
              "    .dataframe tbody tr th:only-of-type {\n",
              "        vertical-align: middle;\n",
              "    }\n",
              "\n",
              "    .dataframe tbody tr th {\n",
              "        vertical-align: top;\n",
              "    }\n",
              "\n",
              "    .dataframe thead th {\n",
              "        text-align: right;\n",
              "    }\n",
              "</style>\n",
              "<table border=\"1\" class=\"dataframe\">\n",
              "  <thead>\n",
              "    <tr style=\"text-align: right;\">\n",
              "      <th></th>\n",
              "      <th>time</th>\n",
              "      <th>pos</th>\n",
              "      <th>stime</th>\n",
              "      <th>spos</th>\n",
              "    </tr>\n",
              "  </thead>\n",
              "  <tbody>\n",
              "    <tr>\n",
              "      <th>0</th>\n",
              "      <td>0.0</td>\n",
              "      <td>0.16</td>\n",
              "      <td>0.03</td>\n",
              "      <td>0.42</td>\n",
              "    </tr>\n",
              "    <tr>\n",
              "      <th>1</th>\n",
              "      <td>0.1</td>\n",
              "      <td>3.12</td>\n",
              "      <td>0.03</td>\n",
              "      <td>0.53</td>\n",
              "    </tr>\n",
              "    <tr>\n",
              "      <th>2</th>\n",
              "      <td>0.2</td>\n",
              "      <td>2.82</td>\n",
              "      <td>0.03</td>\n",
              "      <td>0.55</td>\n",
              "    </tr>\n",
              "    <tr>\n",
              "      <th>3</th>\n",
              "      <td>0.3</td>\n",
              "      <td>3.70</td>\n",
              "      <td>0.03</td>\n",
              "      <td>0.48</td>\n",
              "    </tr>\n",
              "    <tr>\n",
              "      <th>4</th>\n",
              "      <td>0.4</td>\n",
              "      <td>4.39</td>\n",
              "      <td>0.03</td>\n",
              "      <td>0.45</td>\n",
              "    </tr>\n",
              "    <tr>\n",
              "      <th>5</th>\n",
              "      <td>0.5</td>\n",
              "      <td>5.90</td>\n",
              "      <td>0.03</td>\n",
              "      <td>0.51</td>\n",
              "    </tr>\n",
              "    <tr>\n",
              "      <th>6</th>\n",
              "      <td>0.6</td>\n",
              "      <td>5.45</td>\n",
              "      <td>0.03</td>\n",
              "      <td>0.48</td>\n",
              "    </tr>\n",
              "    <tr>\n",
              "      <th>7</th>\n",
              "      <td>0.7</td>\n",
              "      <td>7.27</td>\n",
              "      <td>0.03</td>\n",
              "      <td>0.48</td>\n",
              "    </tr>\n",
              "    <tr>\n",
              "      <th>8</th>\n",
              "      <td>0.8</td>\n",
              "      <td>6.39</td>\n",
              "      <td>0.03</td>\n",
              "      <td>0.44</td>\n",
              "    </tr>\n",
              "    <tr>\n",
              "      <th>9</th>\n",
              "      <td>0.9</td>\n",
              "      <td>6.91</td>\n",
              "      <td>0.03</td>\n",
              "      <td>0.50</td>\n",
              "    </tr>\n",
              "    <tr>\n",
              "      <th>10</th>\n",
              "      <td>1.0</td>\n",
              "      <td>7.03</td>\n",
              "      <td>0.03</td>\n",
              "      <td>0.52</td>\n",
              "    </tr>\n",
              "    <tr>\n",
              "      <th>11</th>\n",
              "      <td>1.1</td>\n",
              "      <td>8.13</td>\n",
              "      <td>0.03</td>\n",
              "      <td>0.49</td>\n",
              "    </tr>\n",
              "    <tr>\n",
              "      <th>12</th>\n",
              "      <td>1.2</td>\n",
              "      <td>8.00</td>\n",
              "      <td>0.03</td>\n",
              "      <td>0.51</td>\n",
              "    </tr>\n",
              "    <tr>\n",
              "      <th>13</th>\n",
              "      <td>1.3</td>\n",
              "      <td>7.56</td>\n",
              "      <td>0.03</td>\n",
              "      <td>0.52</td>\n",
              "    </tr>\n",
              "    <tr>\n",
              "      <th>14</th>\n",
              "      <td>1.4</td>\n",
              "      <td>8.45</td>\n",
              "      <td>0.03</td>\n",
              "      <td>0.57</td>\n",
              "    </tr>\n",
              "    <tr>\n",
              "      <th>15</th>\n",
              "      <td>1.5</td>\n",
              "      <td>7.95</td>\n",
              "      <td>0.03</td>\n",
              "      <td>0.50</td>\n",
              "    </tr>\n",
              "    <tr>\n",
              "      <th>16</th>\n",
              "      <td>1.6</td>\n",
              "      <td>7.97</td>\n",
              "      <td>0.03</td>\n",
              "      <td>0.43</td>\n",
              "    </tr>\n",
              "    <tr>\n",
              "      <th>17</th>\n",
              "      <td>1.7</td>\n",
              "      <td>6.89</td>\n",
              "      <td>0.03</td>\n",
              "      <td>0.50</td>\n",
              "    </tr>\n",
              "    <tr>\n",
              "      <th>18</th>\n",
              "      <td>1.8</td>\n",
              "      <td>7.19</td>\n",
              "      <td>0.03</td>\n",
              "      <td>0.54</td>\n",
              "    </tr>\n",
              "    <tr>\n",
              "      <th>19</th>\n",
              "      <td>1.9</td>\n",
              "      <td>6.49</td>\n",
              "      <td>0.03</td>\n",
              "      <td>0.46</td>\n",
              "    </tr>\n",
              "    <tr>\n",
              "      <th>20</th>\n",
              "      <td>2.0</td>\n",
              "      <td>4.98</td>\n",
              "      <td>0.03</td>\n",
              "      <td>0.53</td>\n",
              "    </tr>\n",
              "  </tbody>\n",
              "</table>\n",
              "</div>"
            ],
            "text/plain": [
              "    time   pos  stime  spos\n",
              "0    0.0  0.16   0.03  0.42\n",
              "1    0.1  3.12   0.03  0.53\n",
              "2    0.2  2.82   0.03  0.55\n",
              "3    0.3  3.70   0.03  0.48\n",
              "4    0.4  4.39   0.03  0.45\n",
              "5    0.5  5.90   0.03  0.51\n",
              "6    0.6  5.45   0.03  0.48\n",
              "7    0.7  7.27   0.03  0.48\n",
              "8    0.8  6.39   0.03  0.44\n",
              "9    0.9  6.91   0.03  0.50\n",
              "10   1.0  7.03   0.03  0.52\n",
              "11   1.1  8.13   0.03  0.49\n",
              "12   1.2  8.00   0.03  0.51\n",
              "13   1.3  7.56   0.03  0.52\n",
              "14   1.4  8.45   0.03  0.57\n",
              "15   1.5  7.95   0.03  0.50\n",
              "16   1.6  7.97   0.03  0.43\n",
              "17   1.7  6.89   0.03  0.50\n",
              "18   1.8  7.19   0.03  0.54\n",
              "19   1.9  6.49   0.03  0.46\n",
              "20   2.0  4.98   0.03  0.53"
            ]
          },
          "execution_count": 12,
          "metadata": {},
          "output_type": "execute_result"
        }
      ],
      "source": [
        "# @title Експериментальні дані { vertical-output: true }\n",
        "data_array = np.array([\n",
        "    [0.00, 0.16, 0.03, 0.42],\n",
        "    [0.10, 3.12, 0.03, 0.53],\n",
        "    [0.20, 2.82, 0.03, 0.55],\n",
        "    [0.30, 3.70, 0.03, 0.48],\n",
        "    [0.40, 4.39, 0.03, 0.45],\n",
        "    [0.50, 5.90, 0.03, 0.51],\n",
        "    [0.60, 5.45, 0.03, 0.48],\n",
        "    [0.70, 7.27, 0.03, 0.48],\n",
        "    [0.80, 6.39, 0.03, 0.44],\n",
        "    [0.90, 6.91, 0.03, 0.50],\n",
        "    [1.00, 7.03, 0.03, 0.52],\n",
        "    [1.10, 8.13, 0.03, 0.49],\n",
        "    [1.20, 8.00, 0.03, 0.51],\n",
        "    [1.30, 7.56, 0.03, 0.52],\n",
        "    [1.40, 8.45, 0.03, 0.57],\n",
        "    [1.50, 7.95, 0.03, 0.50],\n",
        "    [1.60, 7.97, 0.03, 0.43],\n",
        "    [1.70, 6.89, 0.03, 0.50],\n",
        "    [1.80, 7.19, 0.03, 0.54],\n",
        "    [1.90, 6.49, 0.03, 0.46],\n",
        "    [2.00, 4.98, 0.03, 0.53],\n",
        "])\n",
        "d = pd.DataFrame(data_array, columns=['time', 'pos', 'stime', 'spos'])\n",
        "d\n"
      ]
    },
    {
      "cell_type": "code",
      "execution_count": 13,
      "metadata": {
        "colab": {
          "base_uri": "https://localhost:8080/",
          "height": 542
        },
        "id": "xG18CZj3gt9k",
        "outputId": "43ae35cf-85d8-4d75-9275-a21edeab5ccb"
      },
      "outputs": [
        {
          "data": {
            "image/png": "[encoded data removed]",
            "text/plain": [
              "<Figure size 1000x600 with 1 Axes>"
            ]
          },
          "metadata": {},
          "output_type": "display_data"
        }
      ],
      "source": [
        "# @title Графік залежності висоти $y(t)$\n",
        "plt.errorbar(d['time'], d['pos'], xerr=d['stime'], yerr=d['spos'],\n",
        "             fmt='o', ecolor='r', color='k',  markersize=5, capsize=4)\n",
        "plt.grid(True)\n",
        "plt.ylabel(\"Висота (м)\")\n",
        "plt.xlabel(\"час (с)\")\n",
        "plt.savefig(\"dataonly.pdf\")\n"
      ]
    },
    {
      "cell_type": "markdown",
      "metadata": {
        "id": "2iOc7HlpcI27"
      },
      "source": [
        "Метод найменших повних квадратів, який враховує похибки як в залежних змінних $y_i$ так і в незалежних змінних $x_i$  реалізується за допомогою алгоритму який називається [Ortohonal Distance Regression](https://en.wikipedia.org/wiki/Total_least_squares). Останній алгоритм важливий для даних, що отримуються в фізичних експериментах. Сам алгоритм був вперше реалізований на мові ```FORTRAN``` під назвою [```ODRPACK```](https://dl.acm.org/doi/10.1145/1268776.1268782), а згодом розповсюджений  в багатьох програмних пакетах по обробці даних."
      ]
    },
    {
      "cell_type": "code",
      "execution_count": 14,
      "metadata": {
        "id": "j2iAMp5piMvg"
      },
      "outputs": [],
      "source": [
        "# @title Викликаємо пакет методу найменших повних квадратів (ODR)\n",
        "from scipy.odr import ODR, Model, RealData\n"
      ]
    },
    {
      "cell_type": "markdown",
      "metadata": {
        "id": "N_5_ULNveaXz"
      },
      "source": [
        "Задаємо модельну функцію $y = y_0 + v_0 t + \\frac{at^2}{2}$"
      ]
    },
    {
      "cell_type": "code",
      "execution_count": 15,
      "metadata": {
        "id": "qtkHDG3hgYJo"
      },
      "outputs": [],
      "source": [
        "# @title\n",
        "# Задаємо модельну функцію\n",
        "def model_func(beta, t):\n",
        "    \"\"\"\n",
        "    Визначення математичної моделі для підгони.\n",
        "\n",
        "    Параметр підгонки beta[0] та beta[1]\n",
        "    \"\"\"\n",
        "    y = beta[0] + beta[1] * t + beta[2] * t ** 2 / 2\n",
        "    return y\n"
      ]
    },
    {
      "cell_type": "markdown",
      "metadata": {
        "id": "hnDZLbbHeW4D"
      },
      "source": [
        "Задаємо наближені значення параметрів моделі"
      ]
    },
    {
      "cell_type": "code",
      "execution_count": 16,
      "metadata": {
        "id": "VS85QgRZjSmv"
      },
      "outputs": [],
      "source": [
        "# @title\n",
        "init_guess = [1, 1, -10]\n"
      ]
    },
    {
      "cell_type": "markdown",
      "metadata": {
        "id": "EjtEN5zaeTtb"
      },
      "source": [
        "Заганяємо дані і модель в алгоритм ODR"
      ]
    },
    {
      "cell_type": "code",
      "execution_count": 17,
      "metadata": {
        "id": "VpuZmhjIh9AI"
      },
      "outputs": [],
      "source": [
        "# @title\n",
        "# Здійснюємо підгону даних за моделлю\n",
        "# https://docs.scipy.org/doc/scipy/reference/odr.html\n",
        "\n",
        "# Створюємо екземпляр моделі\n",
        "model = Model(model_func)\n",
        "\n",
        "# Створюємо екземпляр даних data\n",
        "data = RealData(d['time'], d['pos'], d['stime'], d['spos'])\n",
        "\n",
        "# Створюємо ODR зі своїми даними, моделлю та початковою оцінкою параметрів\n",
        "odr = ODR(data, model, init_guess)\n",
        "\n",
        "# Вибір методу підгонки\n",
        "odr.set_job(fit_type=0)\n",
        "output = odr.run()\n"
      ]
    },
    {
      "cell_type": "markdown",
      "metadata": {
        "id": "OJPYcJ9meMYI"
      },
      "source": [
        "Будуємо експериментальні дані та маодельну криву і виводимо параметри моделі"
      ]
    },
    {
      "cell_type": "code",
      "execution_count": 18,
      "metadata": {
        "colab": {
          "base_uri": "https://localhost:8080/",
          "height": 659
        },
        "id": "U4ILjUJVj1sJ",
        "outputId": "a6a71f38-425b-45dc-db8a-e033ef0c87d5"
      },
      "outputs": [
        {
          "name": "stdout",
          "output_type": "stream",
          "text": [
            "chisq = 19.49\n",
            "a = (-8.82 +/- 0.74) м/с^2\n",
            "v_0 = (11.29 +/- 0.77) м/с\n",
            "y_0 = (0.76 +/- 0.35) м\n"
          ]
        },
        {
          "data": {
            "image/png": "[encoded data removed]",
            "text/plain": [
              "<Figure size 1000x600 with 1 Axes>"
            ]
          },
          "metadata": {},
          "output_type": "display_data"
        }
      ],
      "source": [
        "# @title\n",
        "# Побудова даних\n",
        "plt.grid(True)\n",
        "plt.errorbar(d['time'], d['pos'], xerr=d['stime'], yerr=d['spos'],\n",
        "             fmt='o', ecolor='r', color='k',  markersize=5,\n",
        "             capsize=4, label=\"дані\")\n",
        "plt.ylabel(\"Висота (м)\")\n",
        "plt.xlabel(\"час (с)\")\n",
        "\n",
        "plt.plot(d['time'], model_func(output.beta, d['time']),\n",
        "         color=\"b\", linewidth=1, label=\"$y = y_0 + v_0 t + \\\\frac{at^2}{2}$\")\n",
        "plt.legend(bbox_to_anchor=(0.01, 0.99), loc='upper left', borderaxespad=0.)\n",
        "\n",
        "# Виведення результатів на координатну площину\n",
        "plt.title('$\\\\chi^2 = %.2f$\\n Параметри моделі $a = (%.2f \\\\pm %.2f)$ м/с$^2$, '\n",
        "          '$v_0 = (%.1f \\\\pm %.1f)$ м/с, '\n",
        "          '$y_0 = (%.1f \\\\pm %.1f)$ м'\n",
        "          % (output.res_var*(21-3),\n",
        "             output.beta[2], output.sd_beta[2],\n",
        "             output.beta[1], output.sd_beta[1],\n",
        "             output.beta[0], output.sd_beta[0]),\n",
        "          fontsize=10,\n",
        "          )\n",
        "\n",
        "print(\"chisq = %.2f\" % (output.res_var*(21-3)))\n",
        "print(\"a = (%.2f +/- %.2f) м/с^2\" % (output.beta[2], output.sd_beta[2]))\n",
        "print(\"v_0 = (%.2f +/- %.2f) м/с\" % (output.beta[1], output.sd_beta[1]))\n",
        "print(\"y_0 = (%.2f +/- %.2f) м\" % (output.beta[0], output.sd_beta[0]))\n"
      ]
    },
    {
      "cell_type": "markdown",
      "metadata": {
        "id": "uMEqrqr1fEJy"
      },
      "source": [
        "## Як провести успішну апроксимацію?"
      ]
    },
    {
      "cell_type": "markdown",
      "metadata": {
        "id": "6WOLFMLre94U"
      },
      "source": [
        "Для того, щоб скористатись алгоритмами і провести успішну апроксимацію даних, треба дотримуватись наступних правил:\n",
        "\n",
        "\n",
        "1. Виберіть відповідну модель та визначте число можливих параметрів.\n",
        "2.   Якщо модель можна лінеаризувати, то краще зробити це.\n",
        "3. Вкажіть початкові прийнятні значення параметрів моделі.\n",
        "4. Якщо в результаті апроксимації один з параметрів оцінено з похибкою $\\sigma_{p_i} \\gg p_i$, що значно перевищує значення самого параметра, то треба покласти знач\n"
      ]
    }
  ],
  "metadata": {
    "colab": {
      "provenance": [],
      "toc_visible": true
    },
    "kernelspec": {
      "display_name": "Python 3",
      "name": "python3"
    },
    "language_info": {
      "codemirror_mode": {
        "name": "ipython",
        "version": 3
      },
      "file_extension": ".py",
      "mimetype": "text/x-python",
      "name": "python",
      "nbconvert_exporter": "python",
      "pygments_lexer": "ipython3",
      "version": "3.11.3"
    },
    "widgets": {
      "application/vnd.jupyter.widget-state+json": {
        "0e855e736c21458e9964bbe90ef0810e": {
          "model_module": "@jupyter-widgets/base",
          "model_module_version": "1.2.0",
          "model_name": "LayoutModel",
          "state": {
            "_model_module": "@jupyter-widgets/base",
            "_model_module_version": "1.2.0",
            "_model_name": "LayoutModel",
            "_view_count": null,
            "_view_module": "@jupyter-widgets/base",
            "_view_module_version": "1.2.0",
            "_view_name": "LayoutView",
            "align_content": null,
            "align_items": null,
            "align_self": null,
            "border": null,
            "bottom": null,
            "display": null,
            "flex": null,
            "flex_flow": null,
            "grid_area": null,
            "grid_auto_columns": null,
            "grid_auto_flow": null,
            "grid_auto_rows": null,
            "grid_column": null,
            "grid_gap": null,
            "grid_row": null,
            "grid_template_areas": null,
            "grid_template_columns": null,
            "grid_template_rows": null,
            "height": null,
            "justify_content": null,
            "justify_items": null,
            "left": null,
            "margin": null,
            "max_height": null,
            "max_width": null,
            "min_height": null,
            "min_width": null,
            "object_fit": null,
            "object_position": null,
            "order": null,
            "overflow": null,
            "overflow_x": null,
            "overflow_y": null,
            "padding": null,
            "right": null,
            "top": null,
            "visibility": null,
            "width": null
          }
        },
        "3e169525d6254e1ca19245c1d438fe62": {
          "model_module": "@jupyter-widgets/controls",
          "model_module_version": "1.5.0",
          "model_name": "SliderStyleModel",
          "state": {
            "_model_module": "@jupyter-widgets/controls",
            "_model_module_version": "1.5.0",
            "_model_name": "SliderStyleModel",
            "_view_count": null,
            "_view_module": "@jupyter-widgets/base",
            "_view_module_version": "1.2.0",
            "_view_name": "StyleView",
            "description_width": "",
            "handle_color": null
          }
        },
        "4aeb0e7c56444d34a1e88896c789d3d7": {
          "model_module": "@jupyter-widgets/base",
          "model_module_version": "1.2.0",
          "model_name": "LayoutModel",
          "state": {
            "_model_module": "@jupyter-widgets/base",
            "_model_module_version": "1.2.0",
            "_model_name": "LayoutModel",
            "_view_count": null,
            "_view_module": "@jupyter-widgets/base",
            "_view_module_version": "1.2.0",
            "_view_name": "LayoutView",
            "align_content": null,
            "align_items": null,
            "align_self": null,
            "border": null,
            "bottom": null,
            "display": null,
            "flex": null,
            "flex_flow": null,
            "grid_area": null,
            "grid_auto_columns": null,
            "grid_auto_flow": null,
            "grid_auto_rows": null,
            "grid_column": null,
            "grid_gap": null,
            "grid_row": null,
            "grid_template_areas": null,
            "grid_template_columns": null,
            "grid_template_rows": null,
            "height": null,
            "justify_content": null,
            "justify_items": null,
            "left": null,
            "margin": null,
            "max_height": null,
            "max_width": null,
            "min_height": null,
            "min_width": null,
            "object_fit": null,
            "object_position": null,
            "order": null,
            "overflow": null,
            "overflow_x": null,
            "overflow_y": null,
            "padding": null,
            "right": null,
            "top": null,
            "visibility": null,
            "width": null
          }
        },
        "4fee593ee50f410cba1e1e3a2f70c47e": {
          "model_module": "@jupyter-widgets/base",
          "model_module_version": "1.2.0",
          "model_name": "LayoutModel",
          "state": {
            "_model_module": "@jupyter-widgets/base",
            "_model_module_version": "1.2.0",
            "_model_name": "LayoutModel",
            "_view_count": null,
            "_view_module": "@jupyter-widgets/base",
            "_view_module_version": "1.2.0",
            "_view_name": "LayoutView",
            "align_content": null,
            "align_items": null,
            "align_self": null,
            "border": null,
            "bottom": null,
            "display": null,
            "flex": null,
            "flex_flow": null,
            "grid_area": null,
            "grid_auto_columns": null,
            "grid_auto_flow": null,
            "grid_auto_rows": null,
            "grid_column": null,
            "grid_gap": null,
            "grid_row": null,
            "grid_template_areas": null,
            "grid_template_columns": null,
            "grid_template_rows": null,
            "height": null,
            "justify_content": null,
            "justify_items": null,
            "left": null,
            "margin": null,
            "max_height": null,
            "max_width": null,
            "min_height": null,
            "min_width": null,
            "object_fit": null,
            "object_position": null,
            "order": null,
            "overflow": null,
            "overflow_x": null,
            "overflow_y": null,
            "padding": null,
            "right": null,
            "top": null,
            "visibility": null,
            "width": null
          }
        },
        "689c7e6dac8b473fbf2c6fd66ccd38b2": {
          "model_module": "@jupyter-widgets/output",
          "model_module_version": "1.0.0",
          "model_name": "OutputModel",
          "state": {
            "_dom_classes": [],
            "_model_module": "@jupyter-widgets/output",
            "_model_module_version": "1.0.0",
            "_model_name": "OutputModel",
            "_view_count": null,
            "_view_module": "@jupyter-widgets/output",
            "_view_module_version": "1.0.0",
            "_view_name": "OutputView",
            "layout": "IPY_MODEL_4aeb0e7c56444d34a1e88896c789d3d7",
            "msg_id": "",
            "outputs": []
          }
        },
        "8787b3686e0349cf838a1685e6ff08ed": {
          "model_module": "@jupyter-widgets/controls",
          "model_module_version": "1.5.0",
          "model_name": "SliderStyleModel",
          "state": {
            "_model_module": "@jupyter-widgets/controls",
            "_model_module_version": "1.5.0",
            "_model_name": "SliderStyleModel",
            "_view_count": null,
            "_view_module": "@jupyter-widgets/base",
            "_view_module_version": "1.2.0",
            "_view_name": "StyleView",
            "description_width": "",
            "handle_color": null
          }
        },
        "8b2feeb6918c4d2d8445bea72b9020c1": {
          "model_module": "@jupyter-widgets/controls",
          "model_module_version": "1.5.0",
          "model_name": "FloatSliderModel",
          "state": {
            "_dom_classes": [],
            "_model_module": "@jupyter-widgets/controls",
            "_model_module_version": "1.5.0",
            "_model_name": "FloatSliderModel",
            "_view_count": null,
            "_view_module": "@jupyter-widgets/controls",
            "_view_module_version": "1.5.0",
            "_view_name": "FloatSliderView",
            "continuous_update": true,
            "description": "y0",
            "description_tooltip": null,
            "disabled": false,
            "layout": "IPY_MODEL_4fee593ee50f410cba1e1e3a2f70c47e",
            "max": 5,
            "min": -2,
            "orientation": "horizontal",
            "readout": true,
            "readout_format": ".2f",
            "step": 0.1,
            "style": "IPY_MODEL_8787b3686e0349cf838a1685e6ff08ed",
            "value": 1.5
          }
        },
        "9c459c3180f44b049431c393c3d4c693": {
          "model_module": "@jupyter-widgets/base",
          "model_module_version": "1.2.0",
          "model_name": "LayoutModel",
          "state": {
            "_model_module": "@jupyter-widgets/base",
            "_model_module_version": "1.2.0",
            "_model_name": "LayoutModel",
            "_view_count": null,
            "_view_module": "@jupyter-widgets/base",
            "_view_module_version": "1.2.0",
            "_view_name": "LayoutView",
            "align_content": null,
            "align_items": null,
            "align_self": null,
            "border": null,
            "bottom": null,
            "display": null,
            "flex": null,
            "flex_flow": null,
            "grid_area": null,
            "grid_auto_columns": null,
            "grid_auto_flow": null,
            "grid_auto_rows": null,
            "grid_column": null,
            "grid_gap": null,
            "grid_row": null,
            "grid_template_areas": null,
            "grid_template_columns": null,
            "grid_template_rows": null,
            "height": null,
            "justify_content": null,
            "justify_items": null,
            "left": null,
            "margin": null,
            "max_height": null,
            "max_width": null,
            "min_height": null,
            "min_width": null,
            "object_fit": null,
            "object_position": null,
            "order": null,
            "overflow": null,
            "overflow_x": null,
            "overflow_y": null,
            "padding": null,
            "right": null,
            "top": null,
            "visibility": null,
            "width": null
          }
        },
        "c1570d32f93747d3bcea02580c00e013": {
          "model_module": "@jupyter-widgets/controls",
          "model_module_version": "1.5.0",
          "model_name": "SliderStyleModel",
          "state": {
            "_model_module": "@jupyter-widgets/controls",
            "_model_module_version": "1.5.0",
            "_model_name": "SliderStyleModel",
            "_view_count": null,
            "_view_module": "@jupyter-widgets/base",
            "_view_module_version": "1.2.0",
            "_view_name": "StyleView",
            "description_width": "",
            "handle_color": null
          }
        },
        "cd194957577b463ca179a2792b61f7ed": {
          "model_module": "@jupyter-widgets/controls",
          "model_module_version": "1.5.0",
          "model_name": "FloatSliderModel",
          "state": {
            "_dom_classes": [],
            "_model_module": "@jupyter-widgets/controls",
            "_model_module_version": "1.5.0",
            "_model_name": "FloatSliderModel",
            "_view_count": null,
            "_view_module": "@jupyter-widgets/controls",
            "_view_module_version": "1.5.0",
            "_view_name": "FloatSliderView",
            "continuous_update": true,
            "description": "a",
            "description_tooltip": null,
            "disabled": false,
            "layout": "IPY_MODEL_0e855e736c21458e9964bbe90ef0810e",
            "max": -3,
            "min": -15,
            "orientation": "horizontal",
            "readout": true,
            "readout_format": ".2f",
            "step": 0.1,
            "style": "IPY_MODEL_3e169525d6254e1ca19245c1d438fe62",
            "value": -9
          }
        },
        "da488a2f093e4a37ac8417023c13f1e9": {
          "model_module": "@jupyter-widgets/controls",
          "model_module_version": "1.5.0",
          "model_name": "FloatSliderModel",
          "state": {
            "_dom_classes": [],
            "_model_module": "@jupyter-widgets/controls",
            "_model_module_version": "1.5.0",
            "_model_name": "FloatSliderModel",
            "_view_count": null,
            "_view_module": "@jupyter-widgets/controls",
            "_view_module_version": "1.5.0",
            "_view_name": "FloatSliderView",
            "continuous_update": true,
            "description": "v0",
            "description_tooltip": null,
            "disabled": false,
            "layout": "IPY_MODEL_9c459c3180f44b049431c393c3d4c693",
            "max": 20,
            "min": 0,
            "orientation": "horizontal",
            "readout": true,
            "readout_format": ".2f",
            "step": 0.1,
            "style": "IPY_MODEL_c1570d32f93747d3bcea02580c00e013",
            "value": 4.2
          }
        },
        "dd87dc4721f34a22a635fb7af4d1be4b": {
          "model_module": "@jupyter-widgets/base",
          "model_module_version": "1.2.0",
          "model_name": "LayoutModel",
          "state": {
            "_model_module": "@jupyter-widgets/base",
            "_model_module_version": "1.2.0",
            "_model_name": "LayoutModel",
            "_view_count": null,
            "_view_module": "@jupyter-widgets/base",
            "_view_module_version": "1.2.0",
            "_view_name": "LayoutView",
            "align_content": null,
            "align_items": null,
            "align_self": null,
            "border": null,
            "bottom": null,
            "display": null,
            "flex": null,
            "flex_flow": null,
            "grid_area": null,
            "grid_auto_columns": null,
            "grid_auto_flow": null,
            "grid_auto_rows": null,
            "grid_column": null,
            "grid_gap": null,
            "grid_row": null,
            "grid_template_areas": null,
            "grid_template_columns": null,
            "grid_template_rows": null,
            "height": null,
            "justify_content": null,
            "justify_items": null,
            "left": null,
            "margin": null,
            "max_height": null,
            "max_width": null,
            "min_height": null,
            "min_width": null,
            "object_fit": null,
            "object_position": null,
            "order": null,
            "overflow": null,
            "overflow_x": null,
            "overflow_y": null,
            "padding": null,
            "right": null,
            "top": null,
            "visibility": null,
            "width": null
          }
        },
        "f0d8eb9d0a4e4b94ac3b6fa1d4846884": {
          "model_module": "@jupyter-widgets/controls",
          "model_module_version": "1.5.0",
          "model_name": "VBoxModel",
          "state": {
            "_dom_classes": [
              "widget-interact"
            ],
            "_model_module": "@jupyter-widgets/controls",
            "_model_module_version": "1.5.0",
            "_model_name": "VBoxModel",
            "_view_count": null,
            "_view_module": "@jupyter-widgets/controls",
            "_view_module_version": "1.5.0",
            "_view_name": "VBoxView",
            "box_style": "",
            "children": [
              "IPY_MODEL_8b2feeb6918c4d2d8445bea72b9020c1",
              "IPY_MODEL_da488a2f093e4a37ac8417023c13f1e9",
              "IPY_MODEL_cd194957577b463ca179a2792b61f7ed",
              "IPY_MODEL_689c7e6dac8b473fbf2c6fd66ccd38b2"
            ],
            "layout": "IPY_MODEL_dd87dc4721f34a22a635fb7af4d1be4b"
          }
        }
      }
    }
  },
  "nbformat": 4,
  "nbformat_minor": 0
}
