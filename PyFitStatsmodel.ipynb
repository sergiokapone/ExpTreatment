{
 "cells": [
  {
   "cell_type": "code",
   "execution_count": 1,
   "metadata": {},
   "outputs": [],
   "source": [
    "import numpy as np\n",
    "import pandas as pd\n",
    "import matplotlib.pyplot as plt\n",
    "from sklearn.linear_model import LinearRegression\n",
    "import statsmodels.api as sm\n"
   ]
  },
  {
   "cell_type": "code",
   "execution_count": 2,
   "metadata": {},
   "outputs": [],
   "source": [
    "data = pd.read_csv('ExpData.dat', delimiter='\\s+')\n"
   ]
  },
  {
   "cell_type": "code",
   "execution_count": 3,
   "metadata": {},
   "outputs": [
    {
     "data": {
      "text/html": [
       "<div>\n",
       "<style scoped>\n",
       "    .dataframe tbody tr th:only-of-type {\n",
       "        vertical-align: middle;\n",
       "    }\n",
       "\n",
       "    .dataframe tbody tr th {\n",
       "        vertical-align: top;\n",
       "    }\n",
       "\n",
       "    .dataframe thead th {\n",
       "        text-align: right;\n",
       "    }\n",
       "</style>\n",
       "<table border=\"1\" class=\"dataframe\">\n",
       "  <thead>\n",
       "    <tr style=\"text-align: right;\">\n",
       "      <th></th>\n",
       "      <th>x</th>\n",
       "      <th>y</th>\n",
       "      <th>xdelta</th>\n",
       "      <th>ydelta</th>\n",
       "    </tr>\n",
       "  </thead>\n",
       "  <tbody>\n",
       "    <tr>\n",
       "      <th>0</th>\n",
       "      <td>1.000</td>\n",
       "      <td>0.00073</td>\n",
       "      <td>0.02</td>\n",
       "      <td>0.00004</td>\n",
       "    </tr>\n",
       "    <tr>\n",
       "      <th>1</th>\n",
       "      <td>1.125</td>\n",
       "      <td>0.00080</td>\n",
       "      <td>0.02</td>\n",
       "      <td>0.00004</td>\n",
       "    </tr>\n",
       "    <tr>\n",
       "      <th>2</th>\n",
       "      <td>1.250</td>\n",
       "      <td>0.00082</td>\n",
       "      <td>0.02</td>\n",
       "      <td>0.00004</td>\n",
       "    </tr>\n",
       "    <tr>\n",
       "      <th>3</th>\n",
       "      <td>1.375</td>\n",
       "      <td>0.00091</td>\n",
       "      <td>0.02</td>\n",
       "      <td>0.00003</td>\n",
       "    </tr>\n",
       "    <tr>\n",
       "      <th>4</th>\n",
       "      <td>1.500</td>\n",
       "      <td>0.00105</td>\n",
       "      <td>0.02</td>\n",
       "      <td>0.00003</td>\n",
       "    </tr>\n",
       "    <tr>\n",
       "      <th>5</th>\n",
       "      <td>1.625</td>\n",
       "      <td>0.00109</td>\n",
       "      <td>0.02</td>\n",
       "      <td>0.00003</td>\n",
       "    </tr>\n",
       "    <tr>\n",
       "      <th>6</th>\n",
       "      <td>1.750</td>\n",
       "      <td>0.00115</td>\n",
       "      <td>0.02</td>\n",
       "      <td>0.00003</td>\n",
       "    </tr>\n",
       "    <tr>\n",
       "      <th>7</th>\n",
       "      <td>1.875</td>\n",
       "      <td>0.00132</td>\n",
       "      <td>0.02</td>\n",
       "      <td>0.00003</td>\n",
       "    </tr>\n",
       "    <tr>\n",
       "      <th>8</th>\n",
       "      <td>2.000</td>\n",
       "      <td>0.00135</td>\n",
       "      <td>0.02</td>\n",
       "      <td>0.00002</td>\n",
       "    </tr>\n",
       "    <tr>\n",
       "      <th>9</th>\n",
       "      <td>2.125</td>\n",
       "      <td>0.00146</td>\n",
       "      <td>0.02</td>\n",
       "      <td>0.00002</td>\n",
       "    </tr>\n",
       "    <tr>\n",
       "      <th>10</th>\n",
       "      <td>2.250</td>\n",
       "      <td>0.00155</td>\n",
       "      <td>0.02</td>\n",
       "      <td>0.00002</td>\n",
       "    </tr>\n",
       "  </tbody>\n",
       "</table>\n",
       "</div>"
      ],
      "text/plain": [
       "        x        y  xdelta   ydelta\n",
       "0   1.000  0.00073    0.02  0.00004\n",
       "1   1.125  0.00080    0.02  0.00004\n",
       "2   1.250  0.00082    0.02  0.00004\n",
       "3   1.375  0.00091    0.02  0.00003\n",
       "4   1.500  0.00105    0.02  0.00003\n",
       "5   1.625  0.00109    0.02  0.00003\n",
       "6   1.750  0.00115    0.02  0.00003\n",
       "7   1.875  0.00132    0.02  0.00003\n",
       "8   2.000  0.00135    0.02  0.00002\n",
       "9   2.125  0.00146    0.02  0.00002\n",
       "10  2.250  0.00155    0.02  0.00002"
      ]
     },
     "execution_count": 3,
     "metadata": {},
     "output_type": "execute_result"
    }
   ],
   "source": [
    "data\n"
   ]
  },
  {
   "cell_type": "code",
   "execution_count": 4,
   "metadata": {},
   "outputs": [],
   "source": [
    "# Додайте стовпець із константою (інтерцептом)\n",
    "data['const'] = 1\n"
   ]
  },
  {
   "cell_type": "code",
   "execution_count": 5,
   "metadata": {},
   "outputs": [],
   "source": [
    "# Створіть модель лінійної регресії\n",
    "model = sm.GLS(data['y'], data[['const', 'x']],\n",
    "               hasconst=True, sigma=data['ydelta'])\n"
   ]
  },
  {
   "cell_type": "code",
   "execution_count": 6,
   "metadata": {},
   "outputs": [
    {
     "name": "stdout",
     "output_type": "stream",
     "text": [
      "                            GLS Regression Results                            \n",
      "==============================================================================\n",
      "Dep. Variable:                      y   R-squared:                       0.989\n",
      "Model:                            GLS   Adj. R-squared:                  0.988\n",
      "Method:                 Least Squares   F-statistic:                     791.5\n",
      "Date:                Mon, 16 Oct 2023   Prob (F-statistic):           4.40e-10\n",
      "Time:                        20:35:28   Log-Likelihood:                 99.372\n",
      "No. Observations:                  11   AIC:                            -194.7\n",
      "Df Residuals:                       9   BIC:                            -193.9\n",
      "Df Model:                           1                                         \n",
      "Covariance Type:            nonrobust                                         \n",
      "==============================================================================\n",
      "                 coef    std err          t      P>|t|      [0.025      0.975]\n",
      "------------------------------------------------------------------------------\n",
      "const        8.24e-06   4.26e-05      0.193      0.851   -8.81e-05       0.000\n",
      "x              0.0007   2.41e-05     28.133      0.000       0.001       0.001\n",
      "==============================================================================\n",
      "Omnibus:                        3.644   Durbin-Watson:                   2.181\n",
      "Prob(Omnibus):                  0.162   Jarque-Bera (JB):                1.117\n",
      "Skew:                          -0.147   Prob(JB):                        0.572\n",
      "Kurtosis:                       1.467   Cond. No.                         10.4\n",
      "==============================================================================\n",
      "\n",
      "Notes:\n",
      "[1] Standard Errors assume that the covariance matrix of the errors is correctly specified.\n"
     ]
    },
    {
     "name": "stderr",
     "output_type": "stream",
     "text": [
      "d:\\Programs\\Programming\\WPy64\\python-3.11.3.amd64\\Lib\\site-packages\\scipy\\stats\\_stats_py.py:1736: UserWarning: kurtosistest only valid for n>=20 ... continuing anyway, n=11\n",
      "  warnings.warn(\"kurtosistest only valid for n>=20 ... continuing \"\n"
     ]
    }
   ],
   "source": [
    "results = model.fit()\n",
    "print(results.summary())\n"
   ]
  },
  {
   "cell_type": "code",
   "execution_count": 7,
   "metadata": {},
   "outputs": [
    {
     "name": "stdout",
     "output_type": "stream",
     "text": [
      "Значення статистики хі-квадрат: 10.141725889357923\n",
      "Наведене значення статистики хі-квадрат: 1.1268584321508803\n"
     ]
    }
   ],
   "source": [
    "# Отримайте оцінені коефіцієнти\n",
    "beta = results.params\n",
    "\n",
    "# Розрахуйте залишки\n",
    "residuals = data['y'] - data[['const', 'x']] @ beta\n",
    "\n",
    "# Розрахуйте статистику хі-квадрат\n",
    "chi2 = residuals @ np.diag(1/data['ydelta']**2) @ residuals\n",
    "\n",
    "# Виведіть значення статистики хі-квадрат\n",
    "print(f\"Значення статистики хі-квадрат: {chi2}\")\n",
    "\n",
    "adjusted_chi2 = chi2 / (len(data) - len(beta))\n",
    "\n",
    "# Виведіть значення наведеної статистики хі-квадрат\n",
    "print(f\"Наведене значення статистики хі-квадрат: {adjusted_chi2}\")\n"
   ]
  },
  {
   "cell_type": "code",
   "execution_count": 8,
   "metadata": {},
   "outputs": [],
   "source": [
    "slope = results.params['x']\n",
    "intercept = results.params['const']\n"
   ]
  },
  {
   "cell_type": "code",
   "execution_count": 9,
   "metadata": {},
   "outputs": [
    {
     "data": {
      "image/png": "[encoded data removed]",
      "text/plain": [
       "<Figure size 640x480 with 1 Axes>"
      ]
     },
     "metadata": {},
     "output_type": "display_data"
    }
   ],
   "source": [
    "from matplotlib.ticker import ScalarFormatter\n",
    "plt.errorbar(data.x, data.y, xerr=data.xdelta,\n",
    "             yerr=data.ydelta, fmt='o', color='blue', capsize=2)\n",
    "plt.plot(data.x, intercept + slope * data.x,\n",
    "         label=rf'$B = {slope:.2e} \\cdot I$')\n",
    "plt.grid(which='both', color='orange', linestyle='--', linewidth=0.5)\n",
    "\n",
    "plt.ticklabel_format(axis='y', style='sci', scilimits=(0, 0))\n",
    "\n",
    "\n",
    "plt.legend()\n",
    "plt.show()\n"
   ]
  }
 ],
 "metadata": {
  "kernelspec": {
   "display_name": "Python 3",
   "language": "python",
   "name": "python3"
  },
  "language_info": {
   "codemirror_mode": {
    "name": "ipython",
    "version": 3
   },
   "file_extension": ".py",
   "mimetype": "text/x-python",
   "name": "python",
   "nbconvert_exporter": "python",
   "pygments_lexer": "ipython3",
   "version": "3.11.3"
  },
  "orig_nbformat": 4
 },
 "nbformat": 4,
 "nbformat_minor": 2
}
